{
 "cells": [
  {
   "cell_type": "code",
   "execution_count": 26,
   "metadata": {},
   "outputs": [],
   "source": [
    "import requests\n",
    "from bs4 import BeautifulSoup\n",
    "\n",
    "# Generate a url from job position and location search result\n",
    "def get_url(position,location):\n",
    "    template = 'https://www.indeed.com/jobs?q=title%3A({})&l={}&jt=fulltime&limit=50'\n",
    "    url = template.format(position,location)\n",
    "    return url\n",
    "\n",
    "# Extract job data from a single job listing\n",
    "def get_listing(card):\n",
    "    atag = card.h2.a\n",
    "    title = atag.get('title')\n",
    "    company = card.find('span', 'company').text.strip()\n",
    "    job_url = 'https://www.indeed.com/viewjob?jk=' + card.get('data-jk')\n",
    "    response_desc = requests.get(job_url)\n",
    "    soup_desc = BeautifulSoup(response_desc.text, 'html.parser')\n",
    "    description = soup_desc.find('div', 'jobsearch-jobDescriptionText')\n",
    "    if description is not None:\n",
    "        description = description.text.strip().replace('\\n', ' ')\n",
    "    location = soup_desc.find('div', \"jobsearch-InlineCompanyRating\")\n",
    "    if location is not None:\n",
    "        location = location.find_all('div')[-1].text.strip()\n",
    "    listing = (title, company, location, description, job_url)\n",
    "    return listing\n",
    "\n",
    "# Print url\n",
    "def main(position, location):\n",
    "    url = get_url(position, location)\n",
    "    return url"
   ]
  },
  {
   "cell_type": "code",
   "execution_count": 27,
   "metadata": {},
   "outputs": [],
   "source": [
    "test_url = main('data scientist','united states')"
   ]
  },
  {
   "cell_type": "code",
   "execution_count": null,
   "metadata": {},
   "outputs": [],
   "source": [
    "response = requests.get(test_url)\n",
    "soup = BeautifulSoup(response.text, 'html.parser')\n",
    "cards = soup.find_all('div', 'jobsearch-SerpJobCard')\n",
    "        \n",
    "# Get all job listings from search page\n",
    "for card in cards:\n",
    "    get_listing(card)\n",
    "\n",
    "\n"
   ]
  }
 ],
 "metadata": {
  "kernelspec": {
   "display_name": "Python 3",
   "language": "python",
   "name": "python3"
  },
  "language_info": {
   "codemirror_mode": {
    "name": "ipython",
    "version": 3
   },
   "file_extension": ".py",
   "mimetype": "text/x-python",
   "name": "python",
   "nbconvert_exporter": "python",
   "pygments_lexer": "ipython3",
   "version": "3.8.2"
  }
 },
 "nbformat": 4,
 "nbformat_minor": 4
}
